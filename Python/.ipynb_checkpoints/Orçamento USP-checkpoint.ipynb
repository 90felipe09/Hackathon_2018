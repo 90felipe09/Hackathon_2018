{
 "cells": [
  {
   "cell_type": "code",
   "execution_count": 205,
   "metadata": {},
   "outputs": [],
   "source": [
    "import pandas as pd\n",
    "import numpy as np\n",
    "from sklearn import preprocessing\n",
    "import matplotlib.pyplot as plt\n",
    "\n",
    "pd.set_option('display.max_rows', 500)\n",
    "pd.set_option('display.max_columns', 500)"
   ]
  },
  {
   "cell_type": "code",
   "execution_count": 206,
   "metadata": {
    "scrolled": true
   },
   "outputs": [],
   "source": [
    "edu2012 = pd.read_csv(r'..\\Dados\\USP-Educação\\Orcamento_2012.csv', sep=';', engine='python', encoding = 'utf8')\n",
    "edu2013 = pd.read_csv(r'..\\Dados\\USP-Educação\\Orcamento_2013.csv', sep=';', engine='python', encoding = 'utf8')\n",
    "edu2014 = pd.read_csv(r'..\\Dados\\USP-Educação\\Orcamento_2014.csv', sep=';', engine='python', encoding = 'utf8')\n",
    "edu2015 = pd.read_csv(r'..\\Dados\\USP-Educação\\Orcamento_2015.csv', sep=';', engine='python', encoding = 'utf8')\n",
    "edu2016 = pd.read_csv(r'..\\Dados\\USP-Educação\\Orcamento_2016.csv', sep=';', engine='python', encoding = 'utf8')\n",
    "edu2017 = pd.read_csv(r'..\\Dados\\USP-Educação\\Orcamento_2017.csv', sep=';', engine='python', encoding = 'utf8')\n",
    "edu2018 = pd.read_csv(r'..\\Dados\\USP-Educação\\Orcamento_2018.csv', sep=';', engine='python', encoding = 'utf8')\n",
    "edu2012[\"Ano\"] = 2012\n",
    "edu2013[\"Ano\"] = 2013\n",
    "edu2014[\"Ano\"] = 2014\n",
    "edu2015[\"Ano\"] = 2015\n",
    "edu2016[\"Ano\"] = 2016\n",
    "edu2017[\"Ano\"] = 2017\n",
    "edu2018[\"Ano\"] = 2018"
   ]
  },
  {
   "cell_type": "code",
   "execution_count": 207,
   "metadata": {},
   "outputs": [],
   "source": [
    "frames = [edu2012, edu2013, edu2014, edu2015, edu2016, edu2017, edu2018]\n",
    "df_edu = pd.concat(frames, sort=False)\n",
    "\n",
    "new = df_edu[\"Unidade de Despesa\"].str.split(\"- \", n = 1, expand = True)\n",
    "df_edu['Codigo'] = new[0]\n",
    "df_edu['Unidade'] = new[1]\n",
    "cols = list(df_edu.columns.values)\n",
    "cols = cols[-2:] + cols[:-2]\n",
    "df_edu = df_edu[cols]\n",
    "df_edu = df_edu.drop(labels='Unidade de Despesa' , axis=1)\n",
    "df_edu['Tipo'] = 'Educação'"
   ]
  },
  {
   "cell_type": "code",
   "execution_count": 208,
   "metadata": {
    "scrolled": true
   },
   "outputs": [],
   "source": [
    "saude2012 = pd.read_csv(r'..\\Dados\\USP-Saúde\\Orcamento_2012.csv', sep=';', engine='python', encoding = 'utf8')\n",
    "saude2013 = pd.read_csv(r'..\\Dados\\USP-Saúde\\Orcamento_2013.csv', sep=';', engine='python', encoding = 'utf8')\n",
    "saude2014 = pd.read_csv(r'..\\Dados\\USP-Saúde\\Orcamento_2014.csv', sep=';', engine='python', encoding = 'utf8')\n",
    "saude2015 = pd.read_csv(r'..\\Dados\\USP-Saúde\\Orcamento_2015.csv', sep=';', engine='python', encoding = 'utf8')\n",
    "saude2016 = pd.read_csv(r'..\\Dados\\USP-Saúde\\Orcamento_2016.csv', sep=';', engine='python', encoding = 'utf8')\n",
    "saude2017 = pd.read_csv(r'..\\Dados\\USP-Saúde\\Orcamento_2017.csv', sep=';', engine='python', encoding = 'utf8')\n",
    "saude2018 = pd.read_csv(r'..\\Dados\\USP-Saúde\\Orcamento_2018.csv', sep=';', engine='python', encoding = 'utf8')\n",
    "saude2012[\"Ano\"] = 2012\n",
    "saude2013[\"Ano\"] = 2013\n",
    "saude2014[\"Ano\"] = 2014\n",
    "saude2015[\"Ano\"] = 2015\n",
    "saude2016[\"Ano\"] = 2016\n",
    "saude2017[\"Ano\"] = 2017\n",
    "saude2018[\"Ano\"] = 2018"
   ]
  },
  {
   "cell_type": "code",
   "execution_count": 209,
   "metadata": {},
   "outputs": [],
   "source": [
    "frames = [saude2012, saude2013, saude2014, saude2015, saude2016, saude2017, saude2018]\n",
    "df_saude = pd.concat(frames, sort=False)\n",
    "\n",
    "new = df_saude[\"Unidade de Despesa\"].str.split(\"- \", n = 1, expand = True)\n",
    "df_saude['Codigo'] = new[0]\n",
    "df_saude['Unidade'] = new[1]\n",
    "cols = list(df_saude.columns.values)\n",
    "cols = cols[-2:] + cols[:-2]\n",
    "df_saude = df_saude[cols]\n",
    "df_saude = df_saude.drop(labels='Unidade de Despesa' , axis=1)\n",
    "df_saude['Tipo'] = 'Saude'"
   ]
  },
  {
   "cell_type": "code",
   "execution_count": 210,
   "metadata": {},
   "outputs": [],
   "source": [
    "frames = [df_edu, df_saude]\n",
    "df = pd.concat(frames, sort=False)\n",
    "df = df.sort_values(by=['Codigo', 'Ano', 'Tipo'])"
   ]
  },
  {
   "cell_type": "code",
   "execution_count": 211,
   "metadata": {},
   "outputs": [],
   "source": [
    "df.columns = df.columns.str.replace(\" \", \"_\")\n",
    "df.columns = df.columns.str.replace(\"(\", \"\")\n",
    "df.columns = df.columns.str.replace(\")\", \"\")\n",
    "df.columns = df.columns.str.replace(\"$\", \"eais\")\n",
    "df.Liquidado_Reais = df.Liquidado_Reais.str.replace(\",\", \".\")"
   ]
  },
  {
   "cell_type": "code",
   "execution_count": 212,
   "metadata": {},
   "outputs": [
    {
     "data": {
      "text/html": [
       "<div>\n",
       "<style scoped>\n",
       "    .dataframe tbody tr th:only-of-type {\n",
       "        vertical-align: middle;\n",
       "    }\n",
       "\n",
       "    .dataframe tbody tr th {\n",
       "        vertical-align: top;\n",
       "    }\n",
       "\n",
       "    .dataframe thead th {\n",
       "        text-align: right;\n",
       "    }\n",
       "</style>\n",
       "<table border=\"1\" class=\"dataframe\">\n",
       "  <thead>\n",
       "    <tr style=\"text-align: right;\">\n",
       "      <th></th>\n",
       "      <th>Codigo</th>\n",
       "      <th>Unidade</th>\n",
       "      <th>Grupo_Orçamentário</th>\n",
       "      <th>Fonte_de_Recurso</th>\n",
       "      <th>Subfunção</th>\n",
       "      <th>Programa</th>\n",
       "      <th>Ação</th>\n",
       "      <th>Elemento</th>\n",
       "      <th>Dotação_Inicial_Reais</th>\n",
       "      <th>Dotação_Atual_Reais</th>\n",
       "      <th>Empenhado_Reais</th>\n",
       "      <th>Liquidado_Reais</th>\n",
       "      <th>Pago_Reais</th>\n",
       "      <th>Pago_Restos_Reais</th>\n",
       "      <th>Ano</th>\n",
       "      <th>Tipo</th>\n",
       "    </tr>\n",
       "  </thead>\n",
       "  <tbody>\n",
       "    <tr>\n",
       "      <th>22083</th>\n",
       "      <td>1</td>\n",
       "      <td>Reitoria da Universidade de São Paulo</td>\n",
       "      <td>0 - Básica</td>\n",
       "      <td>1 - Tesouro</td>\n",
       "      <td>122 - Administração Geral</td>\n",
       "      <td>100 - Suporte Administrativo</td>\n",
       "      <td>5272 - Apoio Técnico Administrativo</td>\n",
       "      <td>339008 - Auxílio - Creche e Auxílio Escola</td>\n",
       "      <td>0,00</td>\n",
       "      <td>0,00</td>\n",
       "      <td>0,00</td>\n",
       "      <td>0.00</td>\n",
       "      <td>0,00</td>\n",
       "      <td>3991,85</td>\n",
       "      <td>2012</td>\n",
       "      <td>Educação</td>\n",
       "    </tr>\n",
       "    <tr>\n",
       "      <th>22084</th>\n",
       "      <td>1</td>\n",
       "      <td>Reitoria da Universidade de São Paulo</td>\n",
       "      <td>0 - Básica</td>\n",
       "      <td>1 - Tesouro</td>\n",
       "      <td>122 - Administração Geral</td>\n",
       "      <td>100 - Suporte Administrativo</td>\n",
       "      <td>5272 - Apoio Técnico Administrativo</td>\n",
       "      <td>339014 - Diárias Pessoal Civil</td>\n",
       "      <td>0,00</td>\n",
       "      <td>0,00</td>\n",
       "      <td>0,00</td>\n",
       "      <td>0.00</td>\n",
       "      <td>0,00</td>\n",
       "      <td>0,00</td>\n",
       "      <td>2012</td>\n",
       "      <td>Educação</td>\n",
       "    </tr>\n",
       "    <tr>\n",
       "      <th>22085</th>\n",
       "      <td>1</td>\n",
       "      <td>Reitoria da Universidade de São Paulo</td>\n",
       "      <td>0 - Básica</td>\n",
       "      <td>1 - Tesouro</td>\n",
       "      <td>122 - Administração Geral</td>\n",
       "      <td>100 - Suporte Administrativo</td>\n",
       "      <td>5272 - Apoio Técnico Administrativo</td>\n",
       "      <td>339030 - Gêneros Alimentícios</td>\n",
       "      <td>0,00</td>\n",
       "      <td>35280,47</td>\n",
       "      <td>35280,47</td>\n",
       "      <td>35280.47</td>\n",
       "      <td>31280,47</td>\n",
       "      <td>2000,00</td>\n",
       "      <td>2012</td>\n",
       "      <td>Educação</td>\n",
       "    </tr>\n",
       "    <tr>\n",
       "      <th>22086</th>\n",
       "      <td>1</td>\n",
       "      <td>Reitoria da Universidade de São Paulo</td>\n",
       "      <td>0 - Básica</td>\n",
       "      <td>1 - Tesouro</td>\n",
       "      <td>122 - Administração Geral</td>\n",
       "      <td>100 - Suporte Administrativo</td>\n",
       "      <td>5272 - Apoio Técnico Administrativo</td>\n",
       "      <td>339030 - Material de Construção</td>\n",
       "      <td>0,00</td>\n",
       "      <td>485,23</td>\n",
       "      <td>485,23</td>\n",
       "      <td>485.23</td>\n",
       "      <td>485,23</td>\n",
       "      <td>0,00</td>\n",
       "      <td>2012</td>\n",
       "      <td>Educação</td>\n",
       "    </tr>\n",
       "    <tr>\n",
       "      <th>22087</th>\n",
       "      <td>1</td>\n",
       "      <td>Reitoria da Universidade de São Paulo</td>\n",
       "      <td>0 - Básica</td>\n",
       "      <td>1 - Tesouro</td>\n",
       "      <td>122 - Administração Geral</td>\n",
       "      <td>100 - Suporte Administrativo</td>\n",
       "      <td>5272 - Apoio Técnico Administrativo</td>\n",
       "      <td>339030 - Suprimentos de Informática</td>\n",
       "      <td>0,00</td>\n",
       "      <td>26512,94</td>\n",
       "      <td>26512,94</td>\n",
       "      <td>26096.69</td>\n",
       "      <td>20389,91</td>\n",
       "      <td>843,86</td>\n",
       "      <td>2012</td>\n",
       "      <td>Educação</td>\n",
       "    </tr>\n",
       "  </tbody>\n",
       "</table>\n",
       "</div>"
      ],
      "text/plain": [
       "      Codigo                                Unidade Grupo_Orçamentário  \\\n",
       "22083     1   Reitoria da Universidade de São Paulo         0 - Básica   \n",
       "22084     1   Reitoria da Universidade de São Paulo         0 - Básica   \n",
       "22085     1   Reitoria da Universidade de São Paulo         0 - Básica   \n",
       "22086     1   Reitoria da Universidade de São Paulo         0 - Básica   \n",
       "22087     1   Reitoria da Universidade de São Paulo         0 - Básica   \n",
       "\n",
       "      Fonte_de_Recurso                  Subfunção  \\\n",
       "22083      1 - Tesouro  122 - Administração Geral   \n",
       "22084      1 - Tesouro  122 - Administração Geral   \n",
       "22085      1 - Tesouro  122 - Administração Geral   \n",
       "22086      1 - Tesouro  122 - Administração Geral   \n",
       "22087      1 - Tesouro  122 - Administração Geral   \n",
       "\n",
       "                           Programa                                 Ação  \\\n",
       "22083  100 - Suporte Administrativo  5272 - Apoio Técnico Administrativo   \n",
       "22084  100 - Suporte Administrativo  5272 - Apoio Técnico Administrativo   \n",
       "22085  100 - Suporte Administrativo  5272 - Apoio Técnico Administrativo   \n",
       "22086  100 - Suporte Administrativo  5272 - Apoio Técnico Administrativo   \n",
       "22087  100 - Suporte Administrativo  5272 - Apoio Técnico Administrativo   \n",
       "\n",
       "                                         Elemento Dotação_Inicial_Reais  \\\n",
       "22083  339008 - Auxílio - Creche e Auxílio Escola                  0,00   \n",
       "22084              339014 - Diárias Pessoal Civil                  0,00   \n",
       "22085               339030 - Gêneros Alimentícios                  0,00   \n",
       "22086             339030 - Material de Construção                  0,00   \n",
       "22087         339030 - Suprimentos de Informática                  0,00   \n",
       "\n",
       "      Dotação_Atual_Reais Empenhado_Reais Liquidado_Reais Pago_Reais  \\\n",
       "22083                0,00            0,00            0.00       0,00   \n",
       "22084                0,00            0,00            0.00       0,00   \n",
       "22085            35280,47        35280,47        35280.47   31280,47   \n",
       "22086              485,23          485,23          485.23     485,23   \n",
       "22087            26512,94        26512,94        26096.69   20389,91   \n",
       "\n",
       "      Pago_Restos_Reais   Ano      Tipo  \n",
       "22083           3991,85  2012  Educação  \n",
       "22084              0,00  2012  Educação  \n",
       "22085           2000,00  2012  Educação  \n",
       "22086              0,00  2012  Educação  \n",
       "22087            843,86  2012  Educação  "
      ]
     },
     "execution_count": 212,
     "metadata": {},
     "output_type": "execute_result"
    }
   ],
   "source": [
    "df.head()"
   ]
  },
  {
   "cell_type": "code",
   "execution_count": 213,
   "metadata": {
    "scrolled": true
   },
   "outputs": [],
   "source": [
    "df.Liquidado_Reais = pd.to_numeric(df.Liquidado_Reais)"
   ]
  },
  {
   "cell_type": "code",
   "execution_count": 214,
   "metadata": {},
   "outputs": [],
   "source": [
    "new = df[\"Elemento\"].str.split(\"- \", n = 1, expand = True)\n",
    "df[\"Elemento\"] = new[1]"
   ]
  },
  {
   "cell_type": "code",
   "execution_count": 216,
   "metadata": {
    "scrolled": true
   },
   "outputs": [],
   "source": [
    "gastos = df.groupby(['Elemento'])[\"Liquidado_Reais\"].agg(\"sum\").sort_values(ascending=False)"
   ]
  },
  {
   "cell_type": "code",
   "execution_count": null,
   "metadata": {},
   "outputs": [],
   "source": []
  },
  {
   "cell_type": "code",
   "execution_count": 227,
   "metadata": {},
   "outputs": [],
   "source": [
    "unidades = df.Unidade.unique()\n",
    "unidades = pd.Series(data=unidades)"
   ]
  },
  {
   "cell_type": "code",
   "execution_count": 228,
   "metadata": {},
   "outputs": [],
   "source": [
    "unidades.to_csv('unidades.txt', index=False)"
   ]
  },
  {
   "cell_type": "code",
   "execution_count": null,
   "metadata": {},
   "outputs": [],
   "source": []
  }
 ],
 "metadata": {
  "kernelspec": {
   "display_name": "Python 3",
   "language": "python",
   "name": "python3"
  },
  "language_info": {
   "codemirror_mode": {
    "name": "ipython",
    "version": 3
   },
   "file_extension": ".py",
   "mimetype": "text/x-python",
   "name": "python",
   "nbconvert_exporter": "python",
   "pygments_lexer": "ipython3",
   "version": "3.6.5"
  }
 },
 "nbformat": 4,
 "nbformat_minor": 2
}
