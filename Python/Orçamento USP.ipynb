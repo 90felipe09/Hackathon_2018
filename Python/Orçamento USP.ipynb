{
 "cells": [
  {
   "cell_type": "code",
   "execution_count": 1,
   "metadata": {},
   "outputs": [],
   "source": [
    "import pandas as pd\n",
    "import numpy as np\n",
    "from sklearn import preprocessing\n",
    "import matplotlib.pyplot as plt\n",
    "\n",
    "pd.set_option('display.max_rows', 500)\n",
    "pd.set_option('display.max_columns', 500)"
   ]
  },
  {
   "cell_type": "code",
   "execution_count": 2,
   "metadata": {
    "scrolled": true
   },
   "outputs": [],
   "source": [
    "edu2012 = pd.read_csv(r'..\\Dados\\USP-Educação\\Orcamento_2012.csv', sep=';', engine='python', encoding = 'utf8')\n",
    "edu2013 = pd.read_csv(r'..\\Dados\\USP-Educação\\Orcamento_2013.csv', sep=';', engine='python', encoding = 'utf8')\n",
    "edu2014 = pd.read_csv(r'..\\Dados\\USP-Educação\\Orcamento_2014.csv', sep=';', engine='python', encoding = 'utf8')\n",
    "edu2015 = pd.read_csv(r'..\\Dados\\USP-Educação\\Orcamento_2015.csv', sep=';', engine='python', encoding = 'utf8')\n",
    "edu2016 = pd.read_csv(r'..\\Dados\\USP-Educação\\Orcamento_2016.csv', sep=';', engine='python', encoding = 'utf8')\n",
    "edu2017 = pd.read_csv(r'..\\Dados\\USP-Educação\\Orcamento_2017.csv', sep=';', engine='python', encoding = 'utf8')\n",
    "edu2018 = pd.read_csv(r'..\\Dados\\USP-Educação\\Orcamento_2018.csv', sep=';', engine='python', encoding = 'utf8')\n",
    "edu2012[\"Ano\"] = 2012\n",
    "edu2013[\"Ano\"] = 2013\n",
    "edu2014[\"Ano\"] = 2014\n",
    "edu2015[\"Ano\"] = 2015\n",
    "edu2016[\"Ano\"] = 2016\n",
    "edu2017[\"Ano\"] = 2017\n",
    "edu2018[\"Ano\"] = 2018"
   ]
  },
  {
   "cell_type": "code",
   "execution_count": 3,
   "metadata": {},
   "outputs": [],
   "source": [
    "frames = [edu2012, edu2013, edu2014, edu2015, edu2016, edu2017, edu2018]\n",
    "df_edu = pd.concat(frames, sort=False)\n",
    "\n",
    "new = df_edu[\"Unidade de Despesa\"].str.split(\"- \", n = 1, expand = True)\n",
    "df_edu['Codigo'] = new[0]\n",
    "df_edu['Unidade'] = new[1]\n",
    "cols = list(df_edu.columns.values)\n",
    "cols = cols[-2:] + cols[:-2]\n",
    "df_edu = df_edu[cols]\n",
    "df_edu = df_edu.drop(labels='Unidade de Despesa' , axis=1)\n",
    "df_edu['Tipo'] = 'Educação'"
   ]
  },
  {
   "cell_type": "code",
   "execution_count": 4,
   "metadata": {
    "scrolled": true
   },
   "outputs": [],
   "source": [
    "saude2012 = pd.read_csv(r'..\\Dados\\USP-Saúde\\Orcamento_2012.csv', sep=';', engine='python', encoding = 'utf8')\n",
    "saude2013 = pd.read_csv(r'..\\Dados\\USP-Saúde\\Orcamento_2013.csv', sep=';', engine='python', encoding = 'utf8')\n",
    "saude2014 = pd.read_csv(r'..\\Dados\\USP-Saúde\\Orcamento_2014.csv', sep=';', engine='python', encoding = 'utf8')\n",
    "saude2015 = pd.read_csv(r'..\\Dados\\USP-Saúde\\Orcamento_2015.csv', sep=';', engine='python', encoding = 'utf8')\n",
    "saude2016 = pd.read_csv(r'..\\Dados\\USP-Saúde\\Orcamento_2016.csv', sep=';', engine='python', encoding = 'utf8')\n",
    "saude2017 = pd.read_csv(r'..\\Dados\\USP-Saúde\\Orcamento_2017.csv', sep=';', engine='python', encoding = 'utf8')\n",
    "saude2018 = pd.read_csv(r'..\\Dados\\USP-Saúde\\Orcamento_2018.csv', sep=';', engine='python', encoding = 'utf8')\n",
    "saude2012[\"Ano\"] = 2012\n",
    "saude2013[\"Ano\"] = 2013\n",
    "saude2014[\"Ano\"] = 2014\n",
    "saude2015[\"Ano\"] = 2015\n",
    "saude2016[\"Ano\"] = 2016\n",
    "saude2017[\"Ano\"] = 2017\n",
    "saude2018[\"Ano\"] = 2018"
   ]
  },
  {
   "cell_type": "code",
   "execution_count": 5,
   "metadata": {},
   "outputs": [],
   "source": [
    "frames = [saude2012, saude2013, saude2014, saude2015, saude2016, saude2017, saude2018]\n",
    "df_saude = pd.concat(frames, sort=False)\n",
    "\n",
    "new = df_saude[\"Unidade de Despesa\"].str.split(\"- \", n = 1, expand = True)\n",
    "df_saude['Codigo'] = new[0]\n",
    "df_saude['Unidade'] = new[1]\n",
    "cols = list(df_saude.columns.values)\n",
    "cols = cols[-2:] + cols[:-2]\n",
    "df_saude = df_saude[cols]\n",
    "df_saude = df_saude.drop(labels='Unidade de Despesa' , axis=1)\n",
    "df_saude['Tipo'] = 'Saude'"
   ]
  },
  {
   "cell_type": "code",
   "execution_count": 6,
   "metadata": {},
   "outputs": [],
   "source": [
    "frames = [df_edu, df_saude]\n",
    "df = pd.concat(frames, sort=False)\n",
    "df = df.sort_values(by=['Codigo', 'Ano', 'Tipo'])"
   ]
  },
  {
   "cell_type": "code",
   "execution_count": 7,
   "metadata": {},
   "outputs": [],
   "source": [
    "df.columns = df.columns.str.replace(\" \", \"_\")\n",
    "df.columns = df.columns.str.replace(\"(\", \"\")\n",
    "df.columns = df.columns.str.replace(\")\", \"\")\n",
    "df.columns = df.columns.str.replace(\"$\", \"eais\")\n",
    "df.Liquidado_Reais = df.Liquidado_Reais.str.replace(\",\", \".\")"
   ]
  },
  {
   "cell_type": "code",
   "execution_count": 8,
   "metadata": {
    "scrolled": true
   },
   "outputs": [],
   "source": [
    "df.Liquidado_Reais = pd.to_numeric(df.Liquidado_Reais)"
   ]
  },
  {
   "cell_type": "code",
   "execution_count": 9,
   "metadata": {},
   "outputs": [],
   "source": [
    "new = df[\"Elemento\"].str.split(\"- \", n = 1, expand = True)\n",
    "df[\"Elemento\"] = new[1]"
   ]
  },
  {
   "cell_type": "code",
   "execution_count": 10,
   "metadata": {},
   "outputs": [
    {
     "data": {
      "text/plain": [
       "3780573887.3040037"
      ]
     },
     "execution_count": 10,
     "metadata": {},
     "output_type": "execute_result"
    }
   ],
   "source": [
    "total = df.groupby(['Ano'])[\"Liquidado_Reais\"].agg(\"sum\")\n",
    "total.quantile(q=0.2)"
   ]
  },
  {
   "cell_type": "code",
   "execution_count": 11,
   "metadata": {
    "scrolled": true
   },
   "outputs": [],
   "source": [
    "gastos = df.groupby(['Elemento'])[\"Liquidado_Reais\"].agg(\"sum\").sort_values(ascending=False)\n",
    "gastos = gastos[gastos > 0]"
   ]
  },
  {
   "cell_type": "code",
   "execution_count": 12,
   "metadata": {},
   "outputs": [
    {
     "data": {
      "text/plain": [
       "1510567767.09"
      ]
     },
     "execution_count": 12,
     "metadata": {},
     "output_type": "execute_result"
    }
   ],
   "source": [
    "gastos[20:].sum()"
   ]
  },
  {
   "cell_type": "code",
   "execution_count": 13,
   "metadata": {},
   "outputs": [],
   "source": [
    "gastos_unidade = df.groupby(['Unidade', 'Ano'])[\"Liquidado_Reais\"].agg(\"sum\").sort_values(ascending=False)"
   ]
  },
  {
   "cell_type": "code",
   "execution_count": 14,
   "metadata": {},
   "outputs": [],
   "source": [
    "gastos_unidade.to_csv('Gastos_Unidades.csv', encoding = 'utf8')"
   ]
  },
  {
   "cell_type": "code",
   "execution_count": 15,
   "metadata": {},
   "outputs": [],
   "source": [
    "#gastos_unidade[2:16].plot(kind='bar')"
   ]
  },
  {
   "cell_type": "code",
   "execution_count": 16,
   "metadata": {},
   "outputs": [],
   "source": [
    "df_new = df.loc[df['Unidade'].isin([\"Faculdade de Medicina de Ribeirão Preto\", \"Escola Politécnica\", \"Faculdade de Medicina\", \"Faculdade de Filosofia, Letras e Ciências Humanas\", \"Escola Superior de Agricultura Luiz de Queiroz\", \"Escola de Engenharia de São Carlos\", \"Escola de Artes, Ciências e Humanidades\", \"Faculdade de Medicina Veterinária e Zootecnia\", \"Instituto de Física\", \"Escola de Comunicações e Artes\", \"Instituto de Ciências Biomédicas\"])]\n",
    "#df_new"
   ]
  },
  {
   "cell_type": "code",
   "execution_count": 17,
   "metadata": {},
   "outputs": [],
   "source": [
    "df_new = df_new.groupby(['Unidade', 'Elemento', 'Ano'])[\"Liquidado_Reais\"].agg(\"sum\").sort_index(ascending=False)"
   ]
  },
  {
   "cell_type": "code",
   "execution_count": 18,
   "metadata": {},
   "outputs": [],
   "source": [
    "df_new = pd.DataFrame(data=df_new)\n",
    "#df_new.sort_values(ascending=False)\n",
    "#df_new"
   ]
  },
  {
   "cell_type": "code",
   "execution_count": 19,
   "metadata": {},
   "outputs": [],
   "source": [
    "df_new = df_new.reset_index()"
   ]
  },
  {
   "cell_type": "code",
   "execution_count": 20,
   "metadata": {},
   "outputs": [],
   "source": [
    "df_new = df_new[df_new.Liquidado_Reais > 0]\n",
    "#df_new"
   ]
  },
  {
   "cell_type": "code",
   "execution_count": 21,
   "metadata": {},
   "outputs": [],
   "source": [
    "#df_new.sort_values(by=[\"Unidade\", \"Liquidado_Reais\"], ascending=False)"
   ]
  },
  {
   "cell_type": "code",
   "execution_count": 22,
   "metadata": {},
   "outputs": [],
   "source": [
    "#df_new.Elemento.unique()"
   ]
  },
  {
   "cell_type": "code",
   "execution_count": 23,
   "metadata": {},
   "outputs": [],
   "source": [
    "df_new[\"categoria\"] = np.nan"
   ]
  },
  {
   "cell_type": "code",
   "execution_count": 24,
   "metadata": {},
   "outputs": [],
   "source": [
    "aggregations = {\n",
    "    'Elemento':lambda x: \", \".join(map(str,x)),\n",
    "    'Liquidado_Reais': 'sum'\n",
    "}"
   ]
  },
  {
   "cell_type": "code",
   "execution_count": 25,
   "metadata": {
    "scrolled": false
   },
   "outputs": [],
   "source": [
    "mask_total = df_new.groupby(['Unidade', 'Ano']).agg(aggregations)\n",
    "mask_total = mask_total.reset_index()\n",
    "mask_total['categoria'] = 0"
   ]
  },
  {
   "cell_type": "code",
   "execution_count": 26,
   "metadata": {},
   "outputs": [],
   "source": [
    "mask_total.Elemento = 'Total'\n",
    "#mask_total"
   ]
  },
  {
   "cell_type": "code",
   "execution_count": 27,
   "metadata": {},
   "outputs": [
    {
     "name": "stderr",
     "output_type": "stream",
     "text": [
      "C:\\Users\\victo\\Anaconda3\\lib\\site-packages\\ipykernel_launcher.py:9: SettingWithCopyWarning: \n",
      "A value is trying to be set on a copy of a slice from a DataFrame.\n",
      "Try using .loc[row_indexer,col_indexer] = value instead\n",
      "\n",
      "See the caveats in the documentation: http://pandas.pydata.org/pandas-docs/stable/indexing.html#indexing-view-versus-copy\n",
      "  if __name__ == '__main__':\n",
      "C:\\Users\\victo\\Anaconda3\\lib\\site-packages\\ipykernel_launcher.py:36: SettingWithCopyWarning: \n",
      "A value is trying to be set on a copy of a slice from a DataFrame.\n",
      "Try using .loc[row_indexer,col_indexer] = value instead\n",
      "\n",
      "See the caveats in the documentation: http://pandas.pydata.org/pandas-docs/stable/indexing.html#indexing-view-versus-copy\n",
      "C:\\Users\\victo\\Anaconda3\\lib\\site-packages\\ipykernel_launcher.py:51: SettingWithCopyWarning: \n",
      "A value is trying to be set on a copy of a slice from a DataFrame.\n",
      "Try using .loc[row_indexer,col_indexer] = value instead\n",
      "\n",
      "See the caveats in the documentation: http://pandas.pydata.org/pandas-docs/stable/indexing.html#indexing-view-versus-copy\n",
      "C:\\Users\\victo\\Anaconda3\\lib\\site-packages\\ipykernel_launcher.py:76: SettingWithCopyWarning: \n",
      "A value is trying to be set on a copy of a slice from a DataFrame.\n",
      "Try using .loc[row_indexer,col_indexer] = value instead\n",
      "\n",
      "See the caveats in the documentation: http://pandas.pydata.org/pandas-docs/stable/indexing.html#indexing-view-versus-copy\n",
      "C:\\Users\\victo\\Anaconda3\\lib\\site-packages\\ipykernel_launcher.py:92: SettingWithCopyWarning: \n",
      "A value is trying to be set on a copy of a slice from a DataFrame.\n",
      "Try using .loc[row_indexer,col_indexer] = value instead\n",
      "\n",
      "See the caveats in the documentation: http://pandas.pydata.org/pandas-docs/stable/indexing.html#indexing-view-versus-copy\n"
     ]
    }
   ],
   "source": [
    "#mask_total = df_new.groupby(['Unidade'])[\"Liquidado_Reais\"].agg(\"sum\").sort_index(ascending=False)\n",
    "\n",
    "\n",
    "mask_1 = df_new.loc[df_new.Elemento.isin(['Execução de Obras e Instalações', 'Estudos e Projetos',\n",
    "        'Reformas de Bens Imóveis',\n",
    "        'Obras e instalações',\n",
    "        'Instal.e Manut.de Equipamentos de Informática',\n",
    "        'Conservação e Manut. de Bens Móveis e Imóveis'])]\n",
    "mask_1['categoria'] = 1\n",
    "\n",
    "mask_2 = df_new.loc[df_new.Elemento.isin(['Serviços Limpeza, Vigilância e Outros - PJ',\n",
    "        'Estagiários',\n",
    "        'Vigilância',\n",
    "        'Locação de Equipamentos Diversos',\n",
    "        'Loc. de Máq. Reprográficas C/ Mão-de-Obra',\n",
    "        'Serviços de Consultoria', 'Seguros',\n",
    "        'Serviços de Utilidade Pública',\n",
    "        'Serv. de Consultoria, Assessoria e Auditoria',\n",
    "        'Outras Remunerações de Serviços Pessoais',\n",
    "        'Locaçãoo de Veículos, Aeronaves e Outros',\n",
    "        'Outros Serviços Terceiros - Pessoa Física',\n",
    "        'Serviços, Programas e Aplicativos de Informát',\n",
    "        'Serviços de Vigilância', 'Serviços de Limpeza',\n",
    "        'Serviços Gráficos',\n",
    "        'Outros Serviços e Encargos- Pessoa Jurídica',\n",
    "        'Outros Serviços de Terceiros - Pessoa Física',\n",
    "        'Outros Serviços de Terceiros - PJ', 'Outros Serviços',\n",
    "        'Dedetização, Desinsetização e Desratização',\n",
    "        'Correios e Telégrafos',\n",
    "        'Gêneros Alimentícios',\n",
    "        'Gerenciamento de Abastecimento de Combustívei',\n",
    "        'Fornec. Alimentação Preparada - Outros',\n",
    "        'Serviço de Lavanderia',\n",
    "        'Pessoal Civil - Pago pela Unidade',\n",
    "        'Fretes e Carretos'])]\n",
    "mask_2['categoria'] = 2\n",
    "\n",
    "mask_3 = df_new.loc[df_new.Elemento.isin(['Encargos Sociais e Obrig.Fiscais Audit/Cons.',\n",
    "        'Diárias no Exterior', 'Diárias Pessoal Civil', 'Diárias - Civil',\n",
    "        'Passagens e despesas com Locomoção', 'Passagens Aéreas',\n",
    "        'Auxílio Financeiro a Pesquisadores',\n",
    "        'Auxílio Financeiro a Estudantes',\n",
    "        'Assistência Médico-Hospitalar e Odontológica',\n",
    "        'Ajuda de Custo a Colaborad. Eventuais',\n",
    "        'Outros Auxíios Financeiros a Pessoas Físicas',\n",
    "        'Outras Despesas com Transportes e Locomoção',\n",
    "        'Aluguéis de Imóveis- Pessoa Jurídica',\n",
    "        'Outras Premiações',\n",
    "        'Diárias no  Exterior',\n",
    "        'Premiações Cult, Art, Cient, Desport e Outras'])]\n",
    "mask_3['categoria'] = 3\n",
    "\n",
    "mask_4 = df_new.loc[df_new.Elemento.isin(['Peças,Acessórios e Componentes de Informática',\n",
    "        'Peças de Reposição e Acessórios',\n",
    "        'Gasolina',\n",
    "        'Álcool', 'Veículos Diversos',\n",
    "        'Jornais, Revistas e Periódicos',\n",
    "        'Ferramentas Avul.Não Acionadas p/Força Motriz',\n",
    "        'Material Educativo Cultural e Recreativo',\n",
    "        'Máquinas e Motores', 'Monitores', 'Mobiliário em Geral',\n",
    "        'Material de Consumo', 'Material de Construção',\n",
    "        'Material Médico-Odontol.,Labor. e Veterin',\n",
    "        'Material Educativo, Esportivo e Cultural',\n",
    "        'Mat.de Escritório,Papéis em Geral e Impressos',\n",
    "        'Outros Combustíveis e Lubrificantes',\n",
    "        'Outros Materiais de Consumo',\n",
    "        'Equipamentos para Informática',\n",
    "        'Equipamentos e Material Permanente',\n",
    "        'Equipam.e Mobiliário Médico-Hospitalar, Odont',\n",
    "        'Outros Equipamentos e Material Permanente',\n",
    "        'Óleo Diesel', 'Diversos Materiais de Distribuição Gratuita',\n",
    "        'Medicamentos e Insumos Farmacêuticos',\n",
    "        'Energia Elétrica',\n",
    "        'Água e Esgotos',\n",
    "        'Suprimentos de Informática'])]\n",
    "mask_4['categoria'] = 4\n",
    "\n",
    "mask_5 = df_new.loc[df_new.Elemento.isin(['Animais para Abate, Experimento e Sêmen',\n",
    "        'Encargos Sociais e Obrig.Fiscais - P. Física',\n",
    "        'Indenizações e Restituições Diversas',\n",
    "        'Regime de Quilometragem',\n",
    "        'Mat, Bem ou Serviço para Distr Gratuita',\n",
    "        'Outras Obrigações Tributárias e Contributivas',\n",
    "        'Indenizações e Restituições',\n",
    "        'Despesas de Exercícios Anteriores',\n",
    "        'Despesas com Tecnologia da Informação',\n",
    "        'Despesas Miúdas e de Pronto Pagamento',\n",
    "        'Exames Laboratoriais',\n",
    "        'Outras Despesas de Exercícios Anteriores',\n",
    "        'Vencimentos e Vantagens Fixas - Pessoal Civil',\n",
    "        'Obrigações Tributárias e Contributivas'])]\n",
    "mask_5['categoria'] = 5"
   ]
  },
  {
   "cell_type": "code",
   "execution_count": 28,
   "metadata": {},
   "outputs": [],
   "source": [
    "frames = [mask_total, mask_1, mask_2, mask_3, mask_4, mask_5]\n",
    "df_new = pd.concat(frames, sort=False)\n",
    "#df_new"
   ]
  },
  {
   "cell_type": "code",
   "execution_count": 29,
   "metadata": {},
   "outputs": [],
   "source": [
    "df_new = df_new.groupby(['Unidade','Ano', 'categoria'])[\"Liquidado_Reais\"].agg(\"sum\").sort_index(ascending=False)"
   ]
  },
  {
   "cell_type": "code",
   "execution_count": 30,
   "metadata": {},
   "outputs": [],
   "source": [
    "df_new = pd.DataFrame(data=df_new)"
   ]
  },
  {
   "cell_type": "code",
   "execution_count": 31,
   "metadata": {
    "scrolled": false
   },
   "outputs": [],
   "source": [
    "#df_new.head(n=100)"
   ]
  },
  {
   "cell_type": "code",
   "execution_count": 32,
   "metadata": {},
   "outputs": [],
   "source": [
    "aggregations = {\n",
    "    'Liquidado_Reais':lambda x: \", \".join(map(str,round(x, 2))),\n",
    "    'categoria': 'sum'\n",
    "}\n",
    "df_new = df_new.reset_index()"
   ]
  },
  {
   "cell_type": "code",
   "execution_count": 33,
   "metadata": {
    "scrolled": true
   },
   "outputs": [],
   "source": [
    "df_new = df_new.groupby(['Unidade', 'Ano']).agg(aggregations)\n",
    "df_new = df_new.reset_index()\n",
    "df_new['categoria'] = 0\n",
    "#df_new"
   ]
  },
  {
   "cell_type": "code",
   "execution_count": 34,
   "metadata": {},
   "outputs": [
    {
     "name": "stdout",
     "output_type": "stream",
     "text": [
      "Escola Politécnica :  orcamentoAnual( 513035.09, 5396749.62, 1589589.59, 7248560.87, 2518784.85, 17325866.02 )\n",
      "Escola Politécnica :  orcamentoAnual( 362235.13, 6733747.94, 1708435.84, 15225017.63, 24029436.54 )\n",
      "Escola Politécnica :  orcamentoAnual( 222167.7, 4726675.07, 980148.09, 11948234.63, 61630.0, 17938855.49 )\n",
      "Escola Politécnica :  orcamentoAnual( 3745.84, 3634922.99, 945472.6, 8707152.36, 13291293.79 )\n",
      "Escola Politécnica :  orcamentoAnual( 16078.52, 1986900.83, 931333.31, 11972378.59, 14955683.65 )\n",
      "Escola Politécnica :  orcamentoAnual( 91520.17, 1889551.23, 1121227.29, 11400819.19, 7900.0, 14519441.4 )\n",
      "Escola Politécnica :  orcamentoAnual( 280878.41, 731773.76, 1123916.09, 9060851.47, 11264693.23 )\n",
      "Escola Superior de Agricultura Luiz de Queiroz :  orcamentoAnual( 163956.46, 4911836.31, 951173.23, 4909191.93, 4068070.8, 15025624.06 )\n",
      "Escola Superior de Agricultura Luiz de Queiroz :  orcamentoAnual( 80418.34, 6450532.43, 1467572.5, 7389822.4, 357601.44, 15745947.11 )\n",
      "Escola Superior de Agricultura Luiz de Queiroz :  orcamentoAnual( 179582.93, 3373984.79, 1022651.74, 4114329.99, 122442.11, 8812991.56 )\n",
      "Escola Superior de Agricultura Luiz de Queiroz :  orcamentoAnual( 537765.18, 1207456.61, 978435.67, 4344212.11, 174685.79, 7242555.36 )\n",
      "Escola Superior de Agricultura Luiz de Queiroz :  orcamentoAnual( 63338.86, 2091764.02, 1167250.84, 5204992.44, 105246.21, 8632592.37 )\n",
      "Escola Superior de Agricultura Luiz de Queiroz :  orcamentoAnual( 65977.62, 2414777.69, 1939597.12, 5732432.17, 883642.08, 11036426.68 )\n",
      "Escola Superior de Agricultura Luiz de Queiroz :  orcamentoAnual( 471852.13, 1323803.99, 1435817.41, 3651566.25, 32400.0, 6915439.78 )\n",
      "Escola de Artes, Ciências e Humanidades :  orcamentoAnual( 222268.45, 2129855.38, 966145.21, 5971955.66, 1155529.0, 10445753.7 )\n",
      "Escola de Artes, Ciências e Humanidades :  orcamentoAnual( 74573.04, 2436978.88, 1279200.79, 7978161.93, 1731866.9, 13500781.54 )\n",
      "Escola de Artes, Ciências e Humanidades :  orcamentoAnual( 223011.39, 317246.47, 588270.0, 5691085.06, 63236.84, 6882849.76 )\n",
      "Escola de Artes, Ciências e Humanidades :  orcamentoAnual( 194025.89, 1186535.26, 882973.63, 5375603.9, 216275.91, 7855414.59 )\n",
      "Escola de Artes, Ciências e Humanidades :  orcamentoAnual( 10286.99, 888451.11, 670169.35, 5027185.83, 6634535.28 )\n",
      "Escola de Artes, Ciências e Humanidades :  orcamentoAnual( 237016.59, 521649.08, 1075280.1, 4519880.27, 6353826.04 )\n",
      "Escola de Artes, Ciências e Humanidades :  orcamentoAnual( 255728.99, 285213.92, 649614.22, 3297699.5, 4488256.63 )\n",
      "Escola de Comunicações e Artes :  orcamentoAnual( 221366.17, 2119079.02, 1214841.8, 4560402.17, 367479.26, 8531957.42 )\n",
      "Escola de Comunicações e Artes :  orcamentoAnual( 80750.0, 3422632.81, 1262968.28, 6540478.67, 16300.0, 11323129.76 )\n",
      "Escola de Comunicações e Artes :  orcamentoAnual( 15000.0, 444892.3, 581046.94, 5276310.38, 6317249.62 )\n",
      "Escola de Comunicações e Artes :  orcamentoAnual( 35174.71, 1485093.33, 392952.7, 4252074.4, 135000.0, 6300295.14 )\n",
      "Escola de Comunicações e Artes :  orcamentoAnual( 85.0, 906305.09, 367914.96, 4108899.07, 5383204.12 )\n",
      "Escola de Comunicações e Artes :  orcamentoAnual( 25287.9, 903066.81, 790148.99, 3999911.76, 5718415.46 )\n",
      "Escola de Comunicações e Artes :  orcamentoAnual( 51571.77, 389336.34, 492764.6, 3237796.53, 4171469.24 )\n",
      "Escola de Engenharia de São Carlos :  orcamentoAnual( 287130.91, 2804457.33, 866593.57, 4003921.98, 2094285.43, 10536455.06 )\n",
      "Escola de Engenharia de São Carlos :  orcamentoAnual( 25497.26, 6524069.6, 1210666.07, 6720190.86, 1061798.74, 15542222.53 )\n",
      "Escola de Engenharia de São Carlos :  orcamentoAnual( 56884.85, 2596500.89, 756413.19, 5521408.18, 377515.2, 9308722.31 )\n",
      "Escola de Engenharia de São Carlos :  orcamentoAnual( 418114.84, 1887529.92, 826339.14, 4304907.26, 648596.0, 8085487.16 )\n",
      "Escola de Engenharia de São Carlos :  orcamentoAnual( 54263.89, 1828664.43, 652982.66, 4723509.14, 42529.63, 7301949.75 )\n",
      "Escola de Engenharia de São Carlos :  orcamentoAnual( 19994.75, 2144378.83, 2076214.13, 4402917.15, 205422.08, 8848926.94 )\n",
      "Escola de Engenharia de São Carlos :  orcamentoAnual( 194753.31, 1346813.62, 974815.96, 3888671.75, 6424275.64 )\n",
      "Faculdade de Filosofia, Letras e Ciências Humanas :  orcamentoAnual( 318468.25, 4983221.43, 3312285.78, 5057022.92, 253000.11, 14000998.49 )\n",
      "Faculdade de Filosofia, Letras e Ciências Humanas :  orcamentoAnual( 32910.49, 2066105.37, 2859688.48, 10188156.52, 15146860.86 )\n",
      "Faculdade de Filosofia, Letras e Ciências Humanas :  orcamentoAnual( 33886.62, 893492.7, 1385559.16, 6775616.62, 36831.0, 9125386.1 )\n",
      "Faculdade de Filosofia, Letras e Ciências Humanas :  orcamentoAnual( 42130.14, 1033948.94, 1829768.6, 6449812.8, 9355660.48 )\n",
      "Faculdade de Filosofia, Letras e Ciências Humanas :  orcamentoAnual( 3994.11, 1057232.63, 1380593.73, 5963532.11, 8443794.58 )\n",
      "Faculdade de Filosofia, Letras e Ciências Humanas :  orcamentoAnual( 69871.62, 1001617.9, 3886892.2, 6829090.08, 11787471.8 )\n",
      "Faculdade de Filosofia, Letras e Ciências Humanas :  orcamentoAnual( 481800.64, 472904.82, 2314394.99, 4918529.76, 8197240.71 )\n",
      "Faculdade de Medicina :  orcamentoAnual( 676265.26, 11605160.27, 529592.85, 5449541.33, 160956.57, 18611766.28 )\n",
      "Faculdade de Medicina :  orcamentoAnual( 88972.54, 4681939.2, 1143289.32, 7013338.84, 3452.0, 12930991.9 )\n",
      "Faculdade de Medicina :  orcamentoAnual( 595263.48, 2540662.8, 349710.55, 8679126.44, 12164763.27 )\n",
      "Faculdade de Medicina :  orcamentoAnual( 160030.96, 2501762.74, 253450.47, 8994551.7, 11909795.87 )\n",
      "Faculdade de Medicina :  orcamentoAnual( 3354.79, 2127703.63, 371783.05, 8788303.98, 11291145.45 )\n",
      "Faculdade de Medicina :  orcamentoAnual( 1078869.56, 1231174.85, 474553.24, 10732529.3, 13517126.95 )\n",
      "Faculdade de Medicina :  orcamentoAnual( 746947.75, 548711.98, 269177.41, 6285137.5, 7849974.64 )\n",
      "Faculdade de Medicina Veterinária e Zootecnia :  orcamentoAnual( 176285.53, 2038910.8, 460397.42, 2395119.02, 1201081.65, 6316422.42 )\n",
      "Faculdade de Medicina Veterinária e Zootecnia :  orcamentoAnual( 2685.37, 3297655.07, 484847.12, 4015805.94, 694918.3, 8495911.8 )\n",
      "Faculdade de Medicina Veterinária e Zootecnia :  orcamentoAnual( 1811.5, 2893821.38, 193277.31, 3521029.78, 14813.08, 6624753.05 )\n",
      "Faculdade de Medicina Veterinária e Zootecnia :  orcamentoAnual( 49817.16, 3485463.36, 185717.04, 3380288.65, 93664.52, 7194950.73 )\n",
      "Faculdade de Medicina Veterinária e Zootecnia :  orcamentoAnual( 31615.0, 3215976.69, 483864.3, 3923483.38, 71500.0, 7764881.37 )\n",
      "Faculdade de Medicina Veterinária e Zootecnia :  orcamentoAnual( 7904.74, 3879673.69, 549827.67, 4552199.8, 1062308.5, 10051914.4 )\n",
      "Faculdade de Medicina Veterinária e Zootecnia :  orcamentoAnual( 34462.88, 1722805.52, 396035.46, 3238880.63, 5421015.99 )\n",
      "Faculdade de Medicina de Ribeirão Preto :  orcamentoAnual( 1161447.39, 3918468.71, 1141498.47, 15938405.46, 1990771.64, 24154036.67 )\n",
      "Faculdade de Medicina de Ribeirão Preto :  orcamentoAnual( 787830.07, 7089686.86, 1329588.54, 19008682.48, 152268.0, 28368055.95 )\n",
      "Faculdade de Medicina de Ribeirão Preto :  orcamentoAnual( 844004.7, 2486606.43, 483372.9, 18216839.87, 127196.72, 22158020.62 )\n",
      "Faculdade de Medicina de Ribeirão Preto :  orcamentoAnual( 1740309.58, 3057370.73, 465827.48, 17045839.94, 27755.82, 22337103.55 )\n",
      "Faculdade de Medicina de Ribeirão Preto :  orcamentoAnual( 2055592.88, 3456597.51, 436467.46, 17915051.0, 30906.4, 23894615.25 )\n",
      "Faculdade de Medicina de Ribeirão Preto :  orcamentoAnual( 1130872.7, 2510652.34, 747121.35, 17628643.96, 22017290.35 )\n",
      "Faculdade de Medicina de Ribeirão Preto :  orcamentoAnual( 1631587.88, 1183455.11, 662255.97, 13416090.05, 16893389.01 )\n",
      "Instituto de Ciências Biomédicas :  orcamentoAnual( 567627.61, 2713098.12, 318500.82, 2694027.98, 905651.73, 7201706.26 )\n",
      "Instituto de Ciências Biomédicas :  orcamentoAnual( 4092.57, 5008786.29, 412112.39, 4655588.75, 184919.68, 10265499.68 )\n",
      "Instituto de Ciências Biomédicas :  orcamentoAnual( 2818.43, 3773795.11, 136895.04, 3881697.75, 7795206.33 )\n",
      "Instituto de Ciências Biomédicas :  orcamentoAnual( 14034.33, 2172609.25, 193544.05, 3998956.42, 6379144.05 )\n",
      "Instituto de Ciências Biomédicas :  orcamentoAnual( 2471.68, 1658290.25, 305064.81, 3599613.43, 5565440.17 )\n",
      "Instituto de Ciências Biomédicas :  orcamentoAnual( 24832.58, 1637474.13, 430515.51, 3680657.24, 5773479.46 )\n",
      "Instituto de Ciências Biomédicas :  orcamentoAnual( 122879.71, 952480.02, 237672.03, 2877650.93, 4190682.69 )\n",
      "Instituto de Física :  orcamentoAnual( 744285.5, 3674899.48, 657837.78, 3091938.19, 2073100.8, 10253961.75 )\n",
      "Instituto de Física :  orcamentoAnual( 4199125.03, 943941.44, 6354136.95, 247551.35, 11744754.77 )\n",
      "Instituto de Física :  orcamentoAnual( 3009153.08, 796785.64, 4807867.29, 464994.8, 9078800.81 )\n",
      "Instituto de Física :  orcamentoAnual( 845.88, 811575.26, 332995.54, 3899703.09, 3635.0, 5048754.77 )\n",
      "Instituto de Física :  orcamentoAnual( 2826.25, 541539.5, 279987.53, 3512304.55, 158928.0, 4495585.83 )\n",
      "Instituto de Física :  orcamentoAnual( 5678.45, 1346956.08, 241353.44, 3201527.89, 4795515.86 )\n",
      "Instituto de Física :  orcamentoAnual( 308505.25, 1173255.22, 128322.25, 2301516.98, 3911599.7 )\n"
     ]
    }
   ],
   "source": [
    "for i in df_new.index:\n",
    "    print(df_new.iloc[i,0],\": \", \"orcamentoAnual(\", df_new.iloc[i,2], \")\")"
   ]
  },
  {
   "cell_type": "code",
   "execution_count": null,
   "metadata": {},
   "outputs": [],
   "source": []
  }
 ],
 "metadata": {
  "kernelspec": {
   "display_name": "Python 3",
   "language": "python",
   "name": "python3"
  },
  "language_info": {
   "codemirror_mode": {
    "name": "ipython",
    "version": 3
   },
   "file_extension": ".py",
   "mimetype": "text/x-python",
   "name": "python",
   "nbconvert_exporter": "python",
   "pygments_lexer": "ipython3",
   "version": "3.6.5"
  }
 },
 "nbformat": 4,
 "nbformat_minor": 2
}
